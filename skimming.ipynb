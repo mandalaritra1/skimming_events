{
 "cells": [
  {
   "cell_type": "code",
   "execution_count": 119,
   "id": "f5c33cc0-a345-4ad0-89b1-fed4ae96f6db",
   "metadata": {
    "tags": []
   },
   "outputs": [
    {
     "name": "stdout",
     "output_type": "stream",
     "text": [
      "awkward version  1.10.3\n",
      "coffea version  0.7.21\n"
     ]
    }
   ],
   "source": [
    "import awkward as ak\n",
    "import numpy as np\n",
    "import time\n",
    "import coffea\n",
    "import uproot\n",
    "import hist\n",
    "import vector\n",
    "print(\"awkward version \", ak.__version__)\n",
    "print(\"coffea version \", coffea.__version__)\n",
    "from coffea import util, processor\n",
    "from coffea.nanoevents import NanoEventsFactory, NanoAODSchema, BaseSchema\n",
    "from collections import defaultdict\n",
    "import pickle\n",
    "from distributed.diagnostics.plugin import UploadDirectory\n",
    "import os\n",
    "\n",
    "from tqdm.notebook import tqdm, trange\n",
    "import time\n",
    "import glob\n",
    "import datetime"
   ]
  },
  {
   "cell_type": "code",
   "execution_count": 120,
   "id": "b06e2c69-ae97-4a7d-8d11-b7892036a7fb",
   "metadata": {
    "tags": []
   },
   "outputs": [],
   "source": [
    "from smp_utils import *\n",
    "from cms_utils import *\n",
    "from jet_output_lib import *\n",
    "from jet_output import *"
   ]
  },
  {
   "cell_type": "code",
   "execution_count": 121,
   "id": "a982506a-f0d3-4340-b2c0-6ffdcdf2e057",
   "metadata": {
    "tags": []
   },
   "outputs": [
    {
     "name": "stdout",
     "output_type": "stream",
     "text": [
      "The autoreload extension is already loaded. To reload it, use:\n",
      "  %reload_ext autoreload\n"
     ]
    }
   ],
   "source": [
    "%load_ext autoreload\n",
    "%autoreload 2"
   ]
  },
  {
   "cell_type": "code",
   "execution_count": 122,
   "id": "78951855-481a-4a2f-8b59-b625e82cad9e",
   "metadata": {},
   "outputs": [],
   "source": [
    "# f = uproot.open(\"/mnt/data/cms/store/mc/RunIISummer20UL16NanoAODv9/DYJetsToLL_M-50_HT-100to200_TuneCP5_PSweights_13TeV-madgraphMLM-pythia8/NANOAODSIM/106X_mcRun2_asymptotic_v17-v2/260000/18D0A087-30BD-FE4E-B447-5F493C2D2794.root\")\n",
    "# f[\"Events\"].keys()"
   ]
  },
  {
   "cell_type": "code",
   "execution_count": 123,
   "id": "8bb43d8e-825b-437e-903b-e2aa0e2b0b17",
   "metadata": {
    "tags": []
   },
   "outputs": [],
   "source": [
    "def is_rootcompat(a):\n",
    "    \"\"\"Is it a flat or 1-d jagged array?\"\"\"\n",
    "    t = ak.type(a)\n",
    "    if isinstance(t, ak._ext.ArrayType):\n",
    "        if isinstance(t.type, ak._ext.PrimitiveType):\n",
    "            return True\n",
    "        if isinstance(t.type, ak._ext.ListType) and isinstance(t.type.type, ak._ext.PrimitiveType):\n",
    "            return True\n",
    "    return False\n",
    "\n",
    "\n",
    "def uproot_writeable(events):\n",
    "    \"\"\"Restrict to columns that uproot can write compactly\"\"\"\n",
    "    out = {}\n",
    "    for bname in events.fields:\n",
    "        if events[bname].fields:\n",
    "            out[bname] = ak.zip(\n",
    "                {\n",
    "                    n: ak.packed(ak.without_parameters(events[bname][n]))\n",
    "                    for n in events[bname].fields\n",
    "                    if is_rootcompat(events[bname][n])\n",
    "                }\n",
    "            )\n",
    "        else:\n",
    "            out[bname] = ak.packed(ak.without_parameters(events[bname]))\n",
    "    return out"
   ]
  },
  {
   "cell_type": "markdown",
   "id": "8395f3b9-3eb5-4346-b174-7d026d5959d9",
   "metadata": {},
   "source": [
    "pt cut for ee is 40 and pt cut for mm is 20, pt cut for jet is 200"
   ]
  },
  {
   "cell_type": "code",
   "execution_count": 124,
   "id": "ba32bc4b-7bd6-410a-bcfc-8563d6914fdf",
   "metadata": {
    "tags": []
   },
   "outputs": [],
   "source": [
    "ptcut_e = 40\n",
    "ptcut_m = 29\n"
   ]
  },
  {
   "cell_type": "code",
   "execution_count": 125,
   "id": "425c347a-f8fa-4836-bd8b-db555290453a",
   "metadata": {
    "tags": []
   },
   "outputs": [],
   "source": [
    "\n",
    "def event_skimmer(filename, outFileLocation):   \n",
    "    events = NanoEventsFactory.from_root(\n",
    "        filename,\n",
    "        metadata={\"dataset\": \"SomeDataset\"},\n",
    "    ).events()\n",
    "\n",
    "    isGenElectron = np.abs(events.GenDressedLepton.pdgId) == 11\n",
    "    isGenMuon = np.abs(events.GenDressedLepton.pdgId) == 13\n",
    "    gen_charge = ak.where( events.GenDressedLepton.pdgId > 0, +1, -1)\n",
    "\n",
    "    twoGen_ee = (ak.sum(isGenElectron, axis=1) == 2) & (ak.all(events.GenDressedLepton.pt > ptcut_e, axis=1)) & (ak.all( np.abs(events.GenDressedLepton.eta) < 2.5, axis=1)) \n",
    "\n",
    "    twoGen_mm = (ak.sum(isGenMuon, axis=1) == 2) & (ak.all(events.GenDressedLepton.pt > ptcut_m, axis=1)) & (ak.all( np.abs(events.GenDressedLepton.eta) < 2.5, axis=1)) \n",
    "\n",
    "    events = events[twoGen_ee | twoGen_mm]\n",
    "    \n",
    "\n",
    "    now = datetime.datetime.now().strftime(\"%Y-%m-%d_%H-%M-%S\")\n",
    "\n",
    "    with uproot.recreate(outFileLocation+\"skimmed_mc\"+now+\".root\") as fout:\n",
    "        fout[\"Events\"] = uproot_writeable(events)\n",
    "\n",
    "    "
   ]
  },
  {
   "cell_type": "code",
   "execution_count": 126,
   "id": "c4ca559a-7474-40e6-8f62-b625f15c73d7",
   "metadata": {
    "tags": []
   },
   "outputs": [],
   "source": [
    "def remove_old_files(era, binn):\n",
    "    files = glob.glob(folderset[era][binn] + \"*.root\")\n",
    "    for f in files:\n",
    "        os.remove(f)\n",
    "    print(\"Removed old files\")"
   ]
  },
  {
   "cell_type": "code",
   "execution_count": 127,
   "id": "c0ac5582-8ab8-4f11-897d-176d3134fedc",
   "metadata": {
    "tags": []
   },
   "outputs": [],
   "source": [
    "# filename = \"/mnt/data/cms/store/mc/RunIISummer20UL16NanoAODv9/DYJetsToLL_M-50_HT-100to200_TuneCP5_PSweights_13TeV-madgraphMLM-pythia8/NANOAODSIM/106X_mcRun2_asymptotic_v17-v2/260000/18D0A087-30BD-FE4E-B447-5F493C2D2794.root\"\n",
    "# event_skimmer(filename)"
   ]
  },
  {
   "cell_type": "code",
   "execution_count": 128,
   "id": "47d74875-1f26-4723-97f7-9d99fd169702",
   "metadata": {
    "tags": []
   },
   "outputs": [],
   "source": [
    "# fileset = {}\n",
    "# filedir = \"samples/\"\n",
    "# prependstr = \"/mnt/data/cms\"\n",
    "# eras_mc = [\n",
    "#         'UL16NanoAODv9', \n",
    "#         'UL17NanoAODv9', \n",
    "#         'UL18NanoAODv9'\n",
    "#     ]\n",
    "\n",
    "# dy_mc_filestr = \"DYJetsToLL_M-50_HT_TuneCP5_PSweights_13TeV-madgraphMLM-pythia8_%s_files.txt\"\n",
    "\n",
    "# for era in eras_mc: \n",
    "#     filename = filedir + dy_mc_filestr % (era)\n",
    "#     print(filename)\n",
    "#     with open(filename) as f:\n",
    "#         dy_mc_files = [prependstr + i.rstrip() for i in f.readlines() if i[0] != \"#\" ]\n",
    "#         fileset[era] = dy_mc_files"
   ]
  },
  {
   "cell_type": "code",
   "execution_count": 129,
   "id": "0aaf8850-429b-4b11-a0bc-a2fc90de2c0e",
   "metadata": {},
   "outputs": [],
   "source": [
    "# for era in eras_mc:\n",
    "#     for file in tqdm(fileset[era]):\n",
    "#         print(file)\n",
    "#         event_skimmer(file, outFileLocation)"
   ]
  },
  {
   "cell_type": "code",
   "execution_count": 130,
   "id": "8a05b517-5541-48e0-8e48-ef4ca49f9d8a",
   "metadata": {
    "tags": []
   },
   "outputs": [],
   "source": [
    "fileset = {}\n",
    "filedir = \"samples/\"\n",
    "prependstr = \"/mnt/data/cms\"\n",
    "\n",
    "years = [\"2016/\",\"2017/\",\"2018/\"]\n",
    "\n",
    "eras_mc = [\n",
    "        'UL16NanoAODv9', \n",
    "        'UL17NanoAODv9', \n",
    "        'UL18NanoAODv9'\n",
    "    ]\n",
    "\n",
    "bins = [\n",
    "    \"100to200\",\n",
    "    \"1200to2500\",\n",
    "    \"200to400\",\n",
    "    \"2500toInf\",\n",
    "    \"400to600\",\n",
    "    \"600to800\",\n",
    "    \"70to100\",\n",
    "    \"800to1200\"\n",
    "]\n",
    "\n",
    "dy_mc_filestr = \"DYJetsToLL_M-50_HT_TuneCP5_PSweights_13TeV-madgraphMLM-pythia8_%s_files.txt\"\n",
    "\n",
    "for era in eras_mc:\n",
    "    fileset[era] = {}\n",
    "    for binn in bins:\n",
    "        fileset[era][binn] = {}\n",
    "        filename = filedir + era + \"/\"+ binn + \".txt\"\n",
    "        with open(filename) as f:\n",
    "            dy_mc_files = [prependstr + i.rstrip() for i in f.readlines() if i[0] != \"#\" ]\n",
    "            fileset[era][binn] = dy_mc_files"
   ]
  },
  {
   "cell_type": "code",
   "execution_count": 131,
   "id": "97612c8e-02ea-4554-8ea3-3a7d84e81904",
   "metadata": {
    "tags": []
   },
   "outputs": [],
   "source": [
    "folderstr = \"DYJetsToLL_M-50_HT_TuneCP5_PSweights_13TeV-madgraphMLM-pythia8_%s_folders.txt\"\n",
    "# eras_mc = [\n",
    "\n",
    "#         'UL16NanoAODv9'\n",
    "\n",
    "#     ]\n",
    "# bins = [\n",
    "#     \"800to1200\"\n",
    "# ]\n",
    "\n",
    "folderset = {}\n",
    "for era in eras_mc:\n",
    "    folderset[era] = {}\n",
    "    filename = filedir+folderstr%(era)\n",
    "    for i,binn in enumerate(bins):\n",
    "        with open(filename) as f:\n",
    "                folder = f.readlines()[i].rstrip()\n",
    "        folderset[era][binn] = prependstr+folder+'skimmed/'\n",
    "        for file in fileset[era][binn]:\n",
    "            with open(filename) as f:\n",
    "                folder = f.readlines()[i].rstrip()\n",
    "                #event_skimmer(file, prependstr+folder )"
   ]
  },
  {
   "cell_type": "code",
   "execution_count": 132,
   "id": "e11eac7d-cbc9-4194-875b-c5bda9c9984b",
   "metadata": {
    "collapsed": true,
    "jupyter": {
     "outputs_hidden": true
    },
    "tags": []
   },
   "outputs": [
    {
     "data": {
      "text/plain": [
       "{'UL16NanoAODv9': {'100to200': '/mnt/data/cms/store/mc/RunIISummer20UL16NanoAODv9/DYJetsToLL_M-50_HT-100to200_TuneCP5_PSweights_13TeV-madgraphMLM-pythia8/NANOAODSIM/106X_mcRun2_asymptotic_v17-v2/skimmed/',\n",
       "  '1200to2500': '/mnt/data/cms/store/mc/RunIISummer20UL16NanoAODv9/DYJetsToLL_M-50_HT-1200to2500_TuneCP5_PSweights_13TeV-madgraphMLM-pythia8/NANOAODSIM/106X_mcRun2_asymptotic_v17-v2/skimmed/',\n",
       "  '200to400': '/mnt/data/cms/store/mc/RunIISummer20UL16NanoAODv9/DYJetsToLL_M-50_HT-200to400_TuneCP5_PSweights_13TeV-madgraphMLM-pythia8/NANOAODSIM/106X_mcRun2_asymptotic_v17-v2/skimmed/',\n",
       "  '2500toInf': '/mnt/data/cms/store/mc/RunIISummer20UL16NanoAODv9/DYJetsToLL_M-50_HT-2500toInf_TuneCP5_PSweights_13TeV-madgraphMLM-pythia8/NANOAODSIM/106X_mcRun2_asymptotic_v17-v2/skimmed/',\n",
       "  '400to600': '/mnt/data/cms/store/mc/RunIISummer20UL16NanoAODv9/DYJetsToLL_M-50_HT-400to600_TuneCP5_PSweights_13TeV-madgraphMLM-pythia8/NANOAODSIM/106X_mcRun2_asymptotic_v17-v2/skimmed/',\n",
       "  '600to800': '/mnt/data/cms/store/mc/RunIISummer20UL16NanoAODv9/DYJetsToLL_M-50_HT-600to800_TuneCP5_PSweights_13TeV-madgraphMLM-pythia8/NANOAODSIM/106X_mcRun2_asymptotic_v17-v2/skimmed/',\n",
       "  '70to100': '/mnt/data/cms/store/mc/RunIISummer20UL16NanoAODv9/DYJetsToLL_M-50_HT-70to100_TuneCP5_PSweights_13TeV-madgraphMLM-pythia8/NANOAODSIM/106X_mcRun2_asymptotic_v17-v2/skimmed/',\n",
       "  '800to1200': '/mnt/data/cms/store/mc/RunIISummer20UL16NanoAODv9/DYJetsToLL_M-50_HT-800to1200_TuneCP5_PSweights_13TeV-madgraphMLM-pythia8/NANOAODSIM/106X_mcRun2_asymptotic_v17-v2/skimmed/'},\n",
       " 'UL17NanoAODv9': {'100to200': '/mnt/data/cms/store/mc/RunIISummer20UL17NanoAODv9/DYJetsToLL_M-50_HT-100to200_TuneCP5_PSweights_13TeV-madgraphMLM-pythia8/NANOAODSIM/106X_mc2017_realistic_v9-v1/skimmed/',\n",
       "  '1200to2500': '/mnt/data/cms/store/mc/RunIISummer20UL17NanoAODv9/DYJetsToLL_M-50_HT-1200to2500_TuneCP5_PSweights_13TeV-madgraphMLM-pythia8/NANOAODSIM/106X_mc2017_realistic_v9-v1/skimmed/',\n",
       "  '200to400': '/mnt/data/cms/store/mc/RunIISummer20UL17NanoAODv9/DYJetsToLL_M-50_HT-200to400_TuneCP5_PSweights_13TeV-madgraphMLM-pythia8/NANOAODSIM/106X_mc2017_realistic_v9-v1/skimmed/',\n",
       "  '2500toInf': '/mnt/data/cms/store/mc/RunIISummer20UL17NanoAODv9/DYJetsToLL_M-50_HT-2500toInf_TuneCP5_PSweights_13TeV-madgraphMLM-pythia8/NANOAODSIM/106X_mc2017_realistic_v9-v1/skimmed/',\n",
       "  '400to600': '/mnt/data/cms/store/mc/RunIISummer20UL17NanoAODv9/DYJetsToLL_M-50_HT-400to600_TuneCP5_PSweights_13TeV-madgraphMLM-pythia8/NANOAODSIM/106X_mc2017_realistic_v9-v1/skimmed/',\n",
       "  '600to800': '/mnt/data/cms/store/mc/RunIISummer20UL17NanoAODv9/DYJetsToLL_M-50_HT-600to800_TuneCP5_PSweights_13TeV-madgraphMLM-pythia8/NANOAODSIM/106X_mc2017_realistic_v9-v1/skimmed/',\n",
       "  '70to100': '/mnt/data/cms/store/mc/RunIISummer20UL17NanoAODv9/DYJetsToLL_M-50_HT-70to100_TuneCP5_PSweights_13TeV-madgraphMLM-pythia8/NANOAODSIM/106X_mc2017_realistic_v9-v1/skimmed/',\n",
       "  '800to1200': '/mnt/data/cms/store/mc/RunIISummer20UL17NanoAODv9/DYJetsToLL_M-50_HT-800to1200_TuneCP5_PSweights_13TeV-madgraphMLM-pythia8/NANOAODSIM/106X_mc2017_realistic_v9-v1/skimmed/'},\n",
       " 'UL18NanoAODv9': {'100to200': '/mnt/data/cms/store/mc/RunIISummer20UL18NanoAODv9/DYJetsToLL_M-50_HT-100to200_TuneCP5_PSweights_13TeV-madgraphMLM-pythia8/NANOAODSIM/106X_upgrade2018_realistic_v16_L1v1-v1/skimmed/',\n",
       "  '1200to2500': '/mnt/data/cms/store/mc/RunIISummer20UL18NanoAODv9/DYJetsToLL_M-50_HT-1200to2500_TuneCP5_PSweights_13TeV-madgraphMLM-pythia8/NANOAODSIM/106X_upgrade2018_realistic_v16_L1v1-v1/skimmed/',\n",
       "  '200to400': '/mnt/data/cms/store/mc/RunIISummer20UL18NanoAODv9/DYJetsToLL_M-50_HT-200to400_TuneCP5_PSweights_13TeV-madgraphMLM-pythia8/NANOAODSIM/106X_upgrade2018_realistic_v16_L1v1-v1/skimmed/',\n",
       "  '2500toInf': '/mnt/data/cms/store/mc/RunIISummer20UL18NanoAODv9/DYJetsToLL_M-50_HT-2500toInf_TuneCP5_PSweights_13TeV-madgraphMLM-pythia8/NANOAODSIM/106X_upgrade2018_realistic_v16_L1v1-v1/skimmed/',\n",
       "  '400to600': '/mnt/data/cms/store/mc/RunIISummer20UL18NanoAODv9/DYJetsToLL_M-50_HT-400to600_TuneCP5_PSweights_13TeV-madgraphMLM-pythia8/NANOAODSIM/106X_upgrade2018_realistic_v16_L1v1-v1/skimmed/',\n",
       "  '600to800': '/mnt/data/cms/store/mc/RunIISummer20UL18NanoAODv9/DYJetsToLL_M-50_HT-600to800_TuneCP5_PSweights_13TeV-madgraphMLM-pythia8/NANOAODSIM/106X_upgrade2018_realistic_v16_L1v1-v1/skimmed/',\n",
       "  '70to100': '/mnt/data/cms/store/mc/RunIISummer20UL18NanoAODv9/DYJetsToLL_M-50_HT-70to100_TuneCP5_PSweights_13TeV-madgraphMLM-pythia8/NANOAODSIM/106X_upgrade2018_realistic_v16_L1v1-v1/skimmed/',\n",
       "  '800to1200': '/mnt/data/cms/store/mc/RunIISummer20UL18NanoAODv9/DYJetsToLL_M-50_HT-800to1200_TuneCP5_PSweights_13TeV-madgraphMLM-pythia8/NANOAODSIM/106X_upgrade2018_realistic_v16_L1v1-v1/skimmed/'}}"
      ]
     },
     "execution_count": 132,
     "metadata": {},
     "output_type": "execute_result"
    }
   ],
   "source": [
    "folderset"
   ]
  },
  {
   "cell_type": "code",
   "execution_count": null,
   "id": "dd776d23-0fc8-40bf-bd23-292bb1d05936",
   "metadata": {
    "tags": []
   },
   "outputs": [
    {
     "name": "stdout",
     "output_type": "stream",
     "text": [
      "Removed old files\n"
     ]
    },
    {
     "data": {
      "application/json": {
       "ascii": false,
       "bar_format": null,
       "colour": null,
       "elapsed": 0.006328105926513672,
       "initial": 0,
       "n": 0,
       "ncols": null,
       "nrows": 57,
       "postfix": null,
       "prefix": "",
       "rate": null,
       "total": 43,
       "unit": "it",
       "unit_divisor": 1000,
       "unit_scale": false
      },
      "application/vnd.jupyter.widget-view+json": {
       "model_id": "a6e7b2ef43eb482b92f438df5603de33",
       "version_major": 2,
       "version_minor": 0
      },
      "text/plain": [
       "  0%|          | 0/43 [00:00<?, ?it/s]"
      ]
     },
     "metadata": {},
     "output_type": "display_data"
    },
    {
     "name": "stdout",
     "output_type": "stream",
     "text": [
      "/mnt/data/cms/store/mc/RunIISummer20UL16NanoAODv9/DYJetsToLL_M-50_HT-100to200_TuneCP5_PSweights_13TeV-madgraphMLM-pythia8/NANOAODSIM/106X_mcRun2_asymptotic_v17-v2/skimmed/    0\n",
      "/mnt/data/cms/store/mc/RunIISummer20UL16NanoAODv9/DYJetsToLL_M-50_HT-100to200_TuneCP5_PSweights_13TeV-madgraphMLM-pythia8/NANOAODSIM/106X_mcRun2_asymptotic_v17-v2/skimmed/    1\n",
      "/mnt/data/cms/store/mc/RunIISummer20UL16NanoAODv9/DYJetsToLL_M-50_HT-100to200_TuneCP5_PSweights_13TeV-madgraphMLM-pythia8/NANOAODSIM/106X_mcRun2_asymptotic_v17-v2/skimmed/    2\n"
     ]
    }
   ],
   "source": [
    "# eras_mc = [\n",
    "\n",
    "#         'UL16NanoAODv9'\n",
    "\n",
    "#     ]\n",
    "# bins = [\n",
    "#     \"200to400\"\n",
    "# ]\n",
    "\n",
    "for era in eras_mc:\n",
    "    filename = filedir+folderstr%(era)\n",
    "    for binn in bins:\n",
    "        remove_old_files(era,binn)\n",
    "        for i,file in enumerate(tqdm(fileset[era][binn])):\n",
    "            with open(\"logs.txt\", \"a\") as f:\n",
    "                f.write(folderset[era][binn] + \"    \"+str(i)+\"\\n\")\n",
    "            print(folderset[era][binn]+ \"    \"+str(i))\n",
    "            event_skimmer(file, folderset[era][binn] )"
   ]
  },
  {
   "cell_type": "markdown",
   "id": "d8bdd8b8-64be-4ecd-827d-0c0240f23c76",
   "metadata": {},
   "source": [
    "## Code for creating the 'skimmed' folders "
   ]
  },
  {
   "cell_type": "code",
   "execution_count": 48,
   "id": "d8cd08bf-96ee-401c-8f60-10f14aae2f5e",
   "metadata": {
    "tags": []
   },
   "outputs": [
    {
     "name": "stdout",
     "output_type": "stream",
     "text": [
      "samples/DYJetsToLL_M-50_HT_TuneCP5_PSweights_13TeV-madgraphMLM-pythia8_UL16NanoAODv9_folders.txt\n",
      "/mnt/data/cms/store/mc/RunIISummer20UL16NanoAODv9/DYJetsToLL_M-50_HT-100to200_TuneCP5_PSweights_13TeV-madgraphMLM-pythia8/NANOAODSIM/106X_mcRun2_asymptotic_v17-v2/\n",
      "/mnt/data/cms/store/mc/RunIISummer20UL16NanoAODv9/DYJetsToLL_M-50_HT-1200to2500_TuneCP5_PSweights_13TeV-madgraphMLM-pythia8/NANOAODSIM/106X_mcRun2_asymptotic_v17-v2/\n",
      "/mnt/data/cms/store/mc/RunIISummer20UL16NanoAODv9/DYJetsToLL_M-50_HT-200to400_TuneCP5_PSweights_13TeV-madgraphMLM-pythia8/NANOAODSIM/106X_mcRun2_asymptotic_v17-v2/\n",
      "/mnt/data/cms/store/mc/RunIISummer20UL16NanoAODv9/DYJetsToLL_M-50_HT-2500toInf_TuneCP5_PSweights_13TeV-madgraphMLM-pythia8/NANOAODSIM/106X_mcRun2_asymptotic_v17-v2/\n",
      "/mnt/data/cms/store/mc/RunIISummer20UL16NanoAODv9/DYJetsToLL_M-50_HT-400to600_TuneCP5_PSweights_13TeV-madgraphMLM-pythia8/NANOAODSIM/106X_mcRun2_asymptotic_v17-v2/\n",
      "/mnt/data/cms/store/mc/RunIISummer20UL16NanoAODv9/DYJetsToLL_M-50_HT-600to800_TuneCP5_PSweights_13TeV-madgraphMLM-pythia8/NANOAODSIM/106X_mcRun2_asymptotic_v17-v2/\n",
      "/mnt/data/cms/store/mc/RunIISummer20UL16NanoAODv9/DYJetsToLL_M-50_HT-70to100_TuneCP5_PSweights_13TeV-madgraphMLM-pythia8/NANOAODSIM/106X_mcRun2_asymptotic_v17-v2/\n",
      "/mnt/data/cms/store/mc/RunIISummer20UL16NanoAODv9/DYJetsToLL_M-50_HT-800to1200_TuneCP5_PSweights_13TeV-madgraphMLM-pythia8/NANOAODSIM/106X_mcRun2_asymptotic_v17-v2/\n"
     ]
    }
   ],
   "source": [
    "folderstr = \"DYJetsToLL_M-50_HT_TuneCP5_PSweights_13TeV-madgraphMLM-pythia8_%s_folders.txt\"\n",
    "import oschmod\n",
    "eras_mc = [\n",
    "\n",
    "        'UL16NanoAODv9'\n",
    "\n",
    "    ]\n",
    "# bins = [\n",
    "#     \"800to1200\"\n",
    "# ]\n",
    "bins = [\n",
    "    \"100to200\",\n",
    "    \"1200to2500\",\n",
    "    \"200to400\",\n",
    "    \"2500toInf\",\n",
    "    \"400to600\",\n",
    "    \"600to800\",\n",
    "    \"70to100\",\n",
    "    \"800to1200\"\n",
    "]\n",
    "for era in eras_mc:\n",
    "    filename = filedir+folderstr%(era)\n",
    "    print(filedir+folderstr%(era))\n",
    "    for i,binn in enumerate(bins):\n",
    "        with open(filename) as f:\n",
    "            folder = f.readlines()[i].rstrip()\n",
    "            print(prependstr+folder)\n",
    "            \n",
    "            # directory = prependstr+folder + \"/skimmed\"\n",
    "            # if not os.path.exists(directory):\n",
    "            #     os.makedirs(directory)\n",
    "            # oschmod.set_mode(directory, \"a+rw\")   "
   ]
  },
  {
   "cell_type": "code",
   "execution_count": null,
   "id": "366f516c-ae7a-4860-9f7d-89432f84c55b",
   "metadata": {
    "tags": []
   },
   "outputs": [],
   "source": [
    "fileset['UL16NanoAODv9']['800to1200']"
   ]
  },
  {
   "cell_type": "code",
   "execution_count": 85,
   "id": "31afe514-f394-468e-b306-cec17155fcd5",
   "metadata": {},
   "outputs": [],
   "source": [
    "def remove_old_files(era, binn):\n",
    "    files = glob.glob(folderset[era][binn] + \"*.root\")\n",
    "    for f in files:\n",
    "        os.remove(f)\n",
    "    print(\"Removed old files\")"
   ]
  },
  {
   "cell_type": "code",
   "execution_count": 80,
   "id": "b43e0f77-013e-447a-bdab-0dcf6c2e8b4c",
   "metadata": {},
   "outputs": [
    {
     "data": {
      "text/plain": [
       "'/mnt/data/cms/store/mc/RunIISummer20UL16NanoAODv9/DYJetsToLL_M-50_HT-100to200_TuneCP5_PSweights_13TeV-madgraphMLM-pythia8/NANOAODSIM/106X_mcRun2_asymptotic_v17-v2/skimmed/*.root'"
      ]
     },
     "execution_count": 80,
     "metadata": {},
     "output_type": "execute_result"
    }
   ],
   "source": [
    "folderset[\"UL16NanoAODv9\"][\"100to200\"] + \"*.root\""
   ]
  },
  {
   "cell_type": "code",
   "execution_count": null,
   "id": "7b83c970-363d-4ec6-b757-f3e0da6b04ea",
   "metadata": {},
   "outputs": [],
   "source": []
  }
 ],
 "metadata": {
  "kernelspec": {
   "display_name": "Python 3 (ipykernel)",
   "language": "python",
   "name": "python3"
  },
  "language_info": {
   "codemirror_mode": {
    "name": "ipython",
    "version": 3
   },
   "file_extension": ".py",
   "mimetype": "text/x-python",
   "name": "python",
   "nbconvert_exporter": "python",
   "pygments_lexer": "ipython3",
   "version": "3.8.15"
  }
 },
 "nbformat": 4,
 "nbformat_minor": 5
}

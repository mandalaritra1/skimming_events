{
 "cells": [
  {
   "cell_type": "code",
   "execution_count": 1,
   "id": "598fbc61-9be4-4b2d-8975-6ed36b323f41",
   "metadata": {},
   "outputs": [],
   "source": [
    "import datetime\n",
    "\n",
    "# Get the current date and time and format it as YYYY-MM-DD_HH-MM-SS\n",
    "now = datetime.datetime.now().strftime(\"%Y-%m-%d_%H-%M-%S\")\n",
    "\n",
    "# Add the file extension\n",
    "filename = now + \".txt\"\n",
    "\n",
    "# Open the file in write mode\n",
    "file = open(filename, \"w\")\n",
    "\n",
    "# Write some data to the file\n",
    "file.write(\"Hello, world!\")\n",
    "\n",
    "# Close the file\n",
    "file.close()"
   ]
  },
  {
   "cell_type": "code",
   "execution_count": null,
   "id": "31c3f378-1203-4837-8df2-b5c0dfed96d2",
   "metadata": {},
   "outputs": [],
   "source": [
    "import subprocess"
   ]
  }
 ],
 "metadata": {
  "kernelspec": {
   "display_name": "Python 3 (ipykernel)",
   "language": "python",
   "name": "python3"
  },
  "language_info": {
   "codemirror_mode": {
    "name": "ipython",
    "version": 3
   },
   "file_extension": ".py",
   "mimetype": "text/x-python",
   "name": "python",
   "nbconvert_exporter": "python",
   "pygments_lexer": "ipython3",
   "version": "3.8.15"
  }
 },
 "nbformat": 4,
 "nbformat_minor": 5
}
